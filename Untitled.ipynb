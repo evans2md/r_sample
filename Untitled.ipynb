{
 "cells": [
  {
   "cell_type": "markdown",
   "metadata": {},
   "source": [
    "# R sample code<br>\n",
    "By Michael D. Evans<br>\n",
    "<p> In this sample, we'll generate some simulated data for a study where participants complete some surveys and play a game that measures risk assement. Participants will be in two groups, a  treatment (treatment) group and a no-treatment group (control). <br><br>The hypotheses we are testing is whether participants in the treatment group are more accurately able to assess risk, whether there are differences in survey responses for the groups, and which items from the surveys are most strongly associated with performance.\n",
    "</p>\n",
    "<ul>\n",
    "<li>Survey1: five facet mindfulness questionnaire</li>\n",
    "<li>Survey2: Barret impulsivity scale</li>\n",
    "<li>Survey3: Perseverative Thinking Questionnarie</li>\n",
    "</ul>\n",
    "    \n",
    "Behavioral Task: Ice Cream Game (try it out: www.mdevans.me/projects/icecream; adapted from BART task, Lejuez et al. 2002 http://www.impulsivity.org/measurement/BART)<br>\n",
    "    <ul><li>Your goal in the Ice Cream Game is to sell as much ice cream using as few cones as possible (e.g. sell as many scoops of ice cream as possible for each trial). Each scoop increases the reward value +1. At any point (even the first scoop), the ice cream can fall, and you cannot sell any- you receive 0 points and move onto the next trial. The risk of the scoops falling increases with each additional scoop, with it guranteed to fall by the 64th scoop (1/64 probability on the first scoop, 32/64 on the 32nd scoop, etc.). Optimal behavior would be to sell the ice cream when the probability of failure is as close to 50% as possible, in this case, at 32 scoops. Fewer scoops results in missing out on probable reward, and more scoops results in unneccesary risk.</li>\n",
    "    </ul>\n",
    "<br>\n",
    "Participants:<br>\n",
    "Group1 (treatment): 100 adults, 18-55<br>\n",
    "Group2 (control):100 adults, 18-55<br>\n",
    "<br>\n",
    "Hypotheses:<br>\n",
    "Hyp1: group1 will show greater task learning and risk appraisal demonstrated with scores non-significantly different from optimal performance (32/64 = .5); group2 will show detrimental risk aversion demonstrated with scores signficantly below optimal.<br>\n",
    "Hyp2: group1 performance scores will be statistically different (greater) than group2<br>\n",
    "Hyp3: group1 will be statistically different from group2 in all questionnaires as following: higher for FFMQ, lower for BIS, lower for PTQ."
   ]
  },
  {
   "cell_type": "code",
   "execution_count": 1,
   "metadata": {},
   "outputs": [
    {
     "data": {
      "text/plain": [
       "range(0, 100)"
      ]
     },
     "execution_count": 1,
     "metadata": {},
     "output_type": "execute_result"
    }
   ],
   "source": [
    "list(range(100))"
   ]
  },
  {
   "cell_type": "code",
   "execution_count": null,
   "metadata": {},
   "outputs": [],
   "source": []
  }
 ],
 "metadata": {
  "kernelspec": {
   "display_name": "R",
   "language": "R",
   "name": "ir"
  },
  "language_info": {
   "codemirror_mode": {
    "name": "ipython",
    "version": 3
   },
   "file_extension": ".py",
   "mimetype": "text/x-python",
   "name": "python",
   "nbconvert_exporter": "python",
   "pygments_lexer": "ipython3",
   "version": "3.8.5"
  }
 },
 "nbformat": 4,
 "nbformat_minor": 4
}
